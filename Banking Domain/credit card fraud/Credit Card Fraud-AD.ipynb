{
 "cells": [
  {
   "cell_type": "markdown",
   "metadata": {
    "id": "Y7c8C6JhjMGq"
   },
   "source": [
    "## Credit Card Fraud\n",
    "\n",
    "Data Has been sourced from Kaggle\n",
    "\n",
    "Get the real data from : https://drive.google.com/file/d/1r1TU_hPn_SQwhElDE47ObdPAkDTOMkFO/view?usp=sharing\n",
    "\n",
    "\n",
    "The datasets contains transactions made by credit cards in September 2013 by european cardholders. This dataset presents transactions that occurred in two days, where we have 492 frauds out of 284,807 transactions. The dataset is highly unbalanced, the positive class (frauds) account for 0.172% of all transactions.\n",
    "\n",
    "It contains only numerical input variables which are the result of a PCA transformation. Unfortunately, due to confidentiality issues, we cannot provide the original features and more background information about the data. Features V1, V2, ... V28 are the principal components obtained with PCA, the only features which have not been transformed with PCA are 'Time' and 'Amount'. Feature 'Time' contains the seconds elapsed between each transaction and the first transaction in the dataset. The feature 'Amount' is the transaction Amount, this feature can be used for example-dependant cost-senstive learning. Feature 'Class' is the response variable and it takes value 1 in case of fraud and 0 otherwise."
   ]
  },
  {
   "cell_type": "code",
   "execution_count": null,
   "metadata": {
    "colab": {
     "base_uri": "https://localhost:8080/"
    },
    "executionInfo": {
     "elapsed": 35160,
     "status": "ok",
     "timestamp": 1652251460898,
     "user": {
      "displayName": "Akanksha Dixit",
      "userId": "04130631968369856482"
     },
     "user_tz": -330
    },
    "id": "FhTqyjIcz1ee",
    "outputId": "4d614df7-850c-4f4e-f596-0d6e3b20aa69"
   },
   "outputs": [
    {
     "name": "stdout",
     "output_type": "stream",
     "text": [
      "Mounted at /content/drive\n"
     ]
    }
   ],
   "source": [
    "from google.colab import drive\n",
    "drive.mount('/content/drive')"
   ]
  },
  {
   "cell_type": "markdown",
   "metadata": {
    "id": "kPlR2yyAjvPb"
   },
   "source": [
    "Our task is to make a simple DL classifer to correctly classify frauds."
   ]
  },
  {
   "cell_type": "code",
   "execution_count": null,
   "metadata": {
    "id": "_8WLTlbki--7"
   },
   "outputs": [],
   "source": [
    "# Starting with useful imports\n",
    "import csv\n",
    "import numpy as np\n",
    "import matplotlib.pyplot as plt"
   ]
  },
  {
   "cell_type": "code",
   "execution_count": null,
   "metadata": {
    "colab": {
     "base_uri": "https://localhost:8080/"
    },
    "executionInfo": {
     "elapsed": 22,
     "status": "ok",
     "timestamp": 1652201988013,
     "user": {
      "displayName": "Akanksha Dixit",
      "userId": "04130631968369856482"
     },
     "user_tz": -330
    },
    "id": "-6tCHJXRzJWg",
    "outputId": "ab775109-8833-4cc8-e471-98ca74cb9feb"
   },
   "outputs": [
    {
     "name": "stdout",
     "output_type": "stream",
     "text": [
      "\u001b[0m\u001b[01;34mdrive\u001b[0m/  \u001b[01;34msample_data\u001b[0m/\n",
      "/content\n"
     ]
    }
   ],
   "source": [
    "%ls\n",
    "!pwd"
   ]
  },
  {
   "cell_type": "code",
   "execution_count": null,
   "metadata": {
    "colab": {
     "base_uri": "https://localhost:8080/"
    },
    "executionInfo": {
     "elapsed": 7199,
     "status": "ok",
     "timestamp": 1652251477420,
     "user": {
      "displayName": "Akanksha Dixit",
      "userId": "04130631968369856482"
     },
     "user_tz": -330
    },
    "id": "jf6gG-oKk0xd",
    "outputId": "f1b9e5b0-699e-47f8-eb16-ffa727963377"
   },
   "outputs": [
    {
     "name": "stdout",
     "output_type": "stream",
     "text": [
      "HEADER: \"Time\",\"V1\",\"V2\",\"V3\",\"V4\",\"V5\",\"V6\",\"V7\",\"V8\",\"V9\",\"V10\",\"V11\",\"V12\",\"V13\",\"V14\",\"V15\",\"V16\",\"V17\",\"V18\",\"V19\",\"V20\",\"V21\",\"V22\",\"V23\",\"V24\",\"V25\",\"V26\",\"V27\",\"V28\",\"Amount\",\"Class\"\n",
      "EXAMPLE FEATURES: [0.0, -1.3598071336738, -0.0727811733098497, 2.53634673796914, 1.37815522427443, -0.338320769942518, 0.462387777762292, 0.239598554061257, 0.0986979012610507, 0.363786969611213, 0.0907941719789316, -0.551599533260813, -0.617800855762348, -0.991389847235408, -0.311169353699879, 1.46817697209427, -0.470400525259478, 0.207971241929242, 0.0257905801985591, 0.403992960255733, 0.251412098239705, -0.018306777944153, 0.277837575558899, -0.110473910188767, 0.0669280749146731, 0.128539358273528, -0.189114843888824, 0.133558376740387, -0.0210530534538215, 149.62]\n",
      "features.shape: (284807, 30)\n",
      "targets.shape: (284807, 1)\n"
     ]
    }
   ],
   "source": [
    "fname = '/content/drive/MyDrive/Colab Notebooks/creditcard.csv'\n",
    "all_features = []\n",
    "all_targets = []\n",
    "with open(fname) as f:\n",
    "  for i, line in enumerate(f):\n",
    "    if i == 0:\n",
    "      print('HEADER:', line.strip())\n",
    "      continue  # Skip header\n",
    "    fields = line.strip().split(',')\n",
    "    all_features.append([float(v.replace('\"', '')) for v in fields[:-1]]) #X data\n",
    "    all_targets.append([int(fields[-1].replace('\"', ''))]) # y data\n",
    "    if i == 1:\n",
    "      print('EXAMPLE FEATURES:', all_features[-1])\n",
    "    \n",
    "features = np.array(all_features, dtype='float32')\n",
    "targets = np.array(all_targets, dtype='uint8')\n",
    "print('features.shape:', features.shape)\n",
    "print('targets.shape:', targets.shape)"
   ]
  },
  {
   "cell_type": "code",
   "execution_count": null,
   "metadata": {
    "colab": {
     "base_uri": "https://localhost:8080/"
    },
    "executionInfo": {
     "elapsed": 527,
     "status": "ok",
     "timestamp": 1652251485583,
     "user": {
      "displayName": "Akanksha Dixit",
      "userId": "04130631968369856482"
     },
     "user_tz": -330
    },
    "id": "i7PMGXdEk53Z",
    "outputId": "24c4c070-385b-4841-ef5a-b300cde53efa"
   },
   "outputs": [
    {
     "name": "stdout",
     "output_type": "stream",
     "text": [
      "Number of training samples: 227846\n",
      "Number of test samples: 56961\n"
     ]
    }
   ],
   "source": [
    "num_test_samples = int(len(features) * 0.2) \n",
    "train_features = features[:-num_test_samples]\n",
    "train_targets = targets[:-num_test_samples]\n",
    "test_features = features[-num_test_samples:]\n",
    "test_targets = targets[-num_test_samples:]\n",
    "print('Number of training samples:', len(train_features))\n",
    "print('Number of test samples:', len(test_features))"
   ]
  },
  {
   "cell_type": "code",
   "execution_count": null,
   "metadata": {
    "colab": {
     "base_uri": "https://localhost:8080/"
    },
    "executionInfo": {
     "elapsed": 35,
     "status": "ok",
     "timestamp": 1652251490752,
     "user": {
      "displayName": "Akanksha Dixit",
      "userId": "04130631968369856482"
     },
     "user_tz": -330
    },
    "id": "LgHaMfUtlOZj",
    "outputId": "e7a21788-cd0c-4d52-da68-1c0276043725"
   },
   "outputs": [
    {
     "name": "stdout",
     "output_type": "stream",
     "text": [
      "Number of positive samples in training data: 417 (0.18% of total)\n"
     ]
    }
   ],
   "source": [
    "counts = np.bincount(train_targets[:, 0])\n",
    "print('Number of positive samples in training data: {} ({:.2f}% of total)'.format(counts[1], 100 * float(counts[1]) / len(train_targets)))"
   ]
  },
  {
   "cell_type": "code",
   "execution_count": null,
   "metadata": {
    "colab": {
     "base_uri": "https://localhost:8080/"
    },
    "executionInfo": {
     "elapsed": 532,
     "status": "ok",
     "timestamp": 1652251496826,
     "user": {
      "displayName": "Akanksha Dixit",
      "userId": "04130631968369856482"
     },
     "user_tz": -330
    },
    "id": "z7uHmVq5txZK",
    "outputId": "c6587da6-ffac-40d1-895c-3919bcc6fefa"
   },
   "outputs": [
    {
     "name": "stdout",
     "output_type": "stream",
     "text": [
      "Number of positive samples in testing data: 75 (0.13% of total)\n"
     ]
    }
   ],
   "source": [
    "counts = np.bincount(test_targets[:, 0])\n",
    "print('Number of positive samples in testing data: {} ({:.2f}% of total)'.format(counts[1], 100 * float(counts[1]) / len(test_targets)))"
   ]
  },
  {
   "cell_type": "code",
   "execution_count": null,
   "metadata": {
    "id": "CwDEZe3mU5Wc"
   },
   "outputs": [],
   "source": [
    "###MY IMPLEMENTATION:"
   ]
  },
  {
   "cell_type": "code",
   "execution_count": null,
   "metadata": {
    "colab": {
     "base_uri": "https://localhost:8080/"
    },
    "executionInfo": {
     "elapsed": 847,
     "status": "ok",
     "timestamp": 1652251528591,
     "user": {
      "displayName": "Akanksha Dixit",
      "userId": "04130631968369856482"
     },
     "user_tz": -330
    },
    "id": "TX4hjl6JDJs2",
    "outputId": "25763c82-ce47-4024-8e1a-c4d0af748eac"
   },
   "outputs": [
    {
     "name": "stdout",
     "output_type": "stream",
     "text": [
      "original dataset shape:75 (0.03% of total)\n",
      "Resample dataset shape417 (50.00% of total)\n"
     ]
    }
   ],
   "source": [
    "#Dealing with imbalance data by performing undersampling\n",
    "\n",
    "from imblearn.under_sampling import RandomUnderSampler\n",
    "\n",
    "random_under_sampler = RandomUnderSampler(random_state=42, replacement=True)\n",
    "# generating fit predictor and target variable\n",
    "x_random_under_sampler, y_random_under_sampler = random_under_sampler.fit_resample(train_features , train_targets)\n",
    "\n",
    "print('original dataset shape:{} ({:.2f}% of total)'.format(counts[1], 100 * float(counts[1]) / len(train_targets)))\n",
    "new_counts = np.bincount(y_random_under_sampler)\n",
    "print('Resample dataset shape{} ({:.2f}% of total)'.format(new_counts[1], 100 * float(new_counts[1]) / len(y_random_under_sampler)))"
   ]
  },
  {
   "cell_type": "code",
   "execution_count": null,
   "metadata": {
    "id": "MgYkz7W3lX_a"
   },
   "outputs": [],
   "source": [
    "#scaling (z distribution calculation)\n",
    "mean = np.mean(x_random_under_sampler, axis=0)\n",
    "x_random_under_sampler -= mean\n",
    "test_features -= mean\n",
    "std = np.std(x_random_under_sampler, axis=0)\n",
    "x_random_under_sampler /= std\n",
    "test_features /= std\n"
   ]
  },
  {
   "cell_type": "code",
   "execution_count": null,
   "metadata": {
    "colab": {
     "base_uri": "https://localhost:8080/"
    },
    "executionInfo": {
     "elapsed": 17,
     "status": "ok",
     "timestamp": 1652251642773,
     "user": {
      "displayName": "Akanksha Dixit",
      "userId": "04130631968369856482"
     },
     "user_tz": -330
    },
    "id": "l8R0Ga_Ut-xd",
    "outputId": "081c002a-ca2b-4079-f255-2ec8119b10c3"
   },
   "outputs": [
    {
     "data": {
      "text/plain": [
       "(834, 30)"
      ]
     },
     "execution_count": 10,
     "metadata": {},
     "output_type": "execute_result"
    }
   ],
   "source": [
    "x_random_under_sampler.shape"
   ]
  },
  {
   "cell_type": "code",
   "execution_count": null,
   "metadata": {
    "colab": {
     "base_uri": "https://localhost:8080/"
    },
    "executionInfo": {
     "elapsed": 14,
     "status": "ok",
     "timestamp": 1652251648300,
     "user": {
      "displayName": "Akanksha Dixit",
      "userId": "04130631968369856482"
     },
     "user_tz": -330
    },
    "id": "Xy3hQD7PZooY",
    "outputId": "c6715a95-3296-4596-ef80-db235d634ba3"
   },
   "outputs": [
    {
     "data": {
      "text/plain": [
       "array([[ 0.05793848,  0.29947796, -0.26536214, ..., -0.16868913,\n",
       "        -0.08183001, -0.3667223 ],\n",
       "       [ 0.35106084,  0.39907467, -0.48019305, ..., -0.23779082,\n",
       "        -0.32756114,  0.10228179],\n",
       "       [ 0.1435264 ,  0.44773677, -0.8012747 , ..., -0.08816357,\n",
       "        -0.26607385, -0.34495324],\n",
       "       ...,\n",
       "       [ 1.7351662 ,  0.1276837 ,  0.4271164 , ...,  0.35209394,\n",
       "        -0.18614782, -0.42685652],\n",
       "       [ 1.7690208 ,  0.05937538,  0.23369019, ...,  0.38407382,\n",
       "        -1.1346563 ,  2.4464397 ],\n",
       "       [ 1.769797  , -0.6291648 , -0.10559474, ...,  0.6293404 ,\n",
       "        -1.717035  , -0.43116722]], dtype=float32)"
      ]
     },
     "execution_count": 11,
     "metadata": {},
     "output_type": "execute_result"
    }
   ],
   "source": [
    "x_random_under_sampler"
   ]
  },
  {
   "cell_type": "code",
   "execution_count": null,
   "metadata": {
    "colab": {
     "base_uri": "https://localhost:8080/"
    },
    "executionInfo": {
     "elapsed": 21948,
     "status": "ok",
     "timestamp": 1652254561696,
     "user": {
      "displayName": "Akanksha Dixit",
      "userId": "04130631968369856482"
     },
     "user_tz": -330
    },
    "id": "ISKRObCClfoF",
    "outputId": "68428c8b-fb8f-4b59-8228-d1425edb5fc2"
   },
   "outputs": [
    {
     "name": "stdout",
     "output_type": "stream",
     "text": [
      "Model: \"sequential_7\"\n",
      "_________________________________________________________________\n",
      " Layer (type)                Output Shape              Param #   \n",
      "=================================================================\n",
      " dense_35 (Dense)            (None, 40)                1240      \n",
      "                                                                 \n",
      " dense_36 (Dense)            (None, 20)                820       \n",
      "                                                                 \n",
      " dropout_7 (Dropout)         (None, 20)                0         \n",
      "                                                                 \n",
      " dense_37 (Dense)            (None, 10)                210       \n",
      "                                                                 \n",
      " dense_38 (Dense)            (None, 5)                 55        \n",
      "                                                                 \n",
      " dense_39 (Dense)            (None, 1)                 6         \n",
      "                                                                 \n",
      "=================================================================\n",
      "Total params: 2,331\n",
      "Trainable params: 2,331\n",
      "Non-trainable params: 0\n",
      "_________________________________________________________________\n",
      "Epoch 1/100\n",
      "24/24 [==============================] - 1s 12ms/step - loss: 2.0084 - val_loss: 2.6835\n",
      "Epoch 2/100\n",
      "24/24 [==============================] - 0s 5ms/step - loss: 1.2508 - val_loss: 2.1841\n",
      "Epoch 3/100\n",
      "24/24 [==============================] - 0s 5ms/step - loss: 1.1630 - val_loss: 2.0408\n",
      "Epoch 4/100\n",
      "24/24 [==============================] - 0s 5ms/step - loss: 1.0618 - val_loss: 2.0034\n",
      "Epoch 5/100\n",
      "24/24 [==============================] - 0s 5ms/step - loss: 1.0401 - val_loss: 1.8598\n",
      "Epoch 6/100\n",
      "24/24 [==============================] - 0s 5ms/step - loss: 1.0657 - val_loss: 1.5899\n",
      "Epoch 7/100\n",
      "24/24 [==============================] - 0s 5ms/step - loss: 0.9822 - val_loss: 1.6132\n",
      "Epoch 8/100\n",
      "24/24 [==============================] - 0s 5ms/step - loss: 0.9750 - val_loss: 1.7653\n",
      "Epoch 9/100\n",
      "24/24 [==============================] - 0s 6ms/step - loss: 1.0047 - val_loss: 1.8908\n",
      "Epoch 10/100\n",
      "24/24 [==============================] - 0s 5ms/step - loss: 0.9472 - val_loss: 1.8209\n",
      "Epoch 11/100\n",
      "24/24 [==============================] - 0s 5ms/step - loss: 0.8766 - val_loss: 1.9124\n",
      "Epoch 12/100\n",
      "24/24 [==============================] - 0s 5ms/step - loss: 0.9144 - val_loss: 1.7507\n",
      "Epoch 13/100\n",
      "24/24 [==============================] - 0s 5ms/step - loss: 0.8799 - val_loss: 1.8307\n",
      "Epoch 14/100\n",
      "24/24 [==============================] - 0s 5ms/step - loss: 0.8414 - val_loss: 1.7990\n",
      "Epoch 15/100\n",
      "24/24 [==============================] - 0s 5ms/step - loss: 0.8584 - val_loss: 1.6247\n",
      "Epoch 16/100\n",
      "24/24 [==============================] - 0s 5ms/step - loss: 0.8238 - val_loss: 1.6208\n",
      "Epoch 17/100\n",
      "24/24 [==============================] - 0s 6ms/step - loss: 0.8221 - val_loss: 1.5903\n",
      "Epoch 18/100\n",
      "24/24 [==============================] - 0s 5ms/step - loss: 0.7850 - val_loss: 1.7196\n",
      "Epoch 19/100\n",
      "24/24 [==============================] - 0s 5ms/step - loss: 0.8105 - val_loss: 1.5687\n",
      "Epoch 20/100\n",
      "24/24 [==============================] - 0s 5ms/step - loss: 0.7411 - val_loss: 1.5500\n",
      "Epoch 21/100\n",
      "24/24 [==============================] - 0s 5ms/step - loss: 0.7849 - val_loss: 1.6900\n",
      "Epoch 22/100\n",
      "24/24 [==============================] - 0s 5ms/step - loss: 0.7468 - val_loss: 1.5072\n",
      "Epoch 23/100\n",
      "24/24 [==============================] - 0s 5ms/step - loss: 0.7251 - val_loss: 1.5529\n",
      "Epoch 24/100\n",
      "24/24 [==============================] - 0s 5ms/step - loss: 0.7263 - val_loss: 1.7962\n",
      "Epoch 25/100\n",
      "24/24 [==============================] - 0s 5ms/step - loss: 0.7200 - val_loss: 1.7780\n",
      "Epoch 26/100\n",
      "24/24 [==============================] - 0s 5ms/step - loss: 0.7205 - val_loss: 1.7353\n",
      "Epoch 27/100\n",
      "24/24 [==============================] - 0s 6ms/step - loss: 0.7343 - val_loss: 1.4374\n",
      "Epoch 28/100\n",
      "24/24 [==============================] - 0s 5ms/step - loss: 0.6907 - val_loss: 1.2685\n",
      "Epoch 29/100\n",
      "24/24 [==============================] - 0s 5ms/step - loss: 0.6628 - val_loss: 1.4323\n",
      "Epoch 30/100\n",
      "24/24 [==============================] - 0s 6ms/step - loss: 0.6630 - val_loss: 1.4361\n",
      "Epoch 31/100\n",
      "24/24 [==============================] - 0s 5ms/step - loss: 0.6293 - val_loss: 1.6088\n",
      "Epoch 32/100\n",
      "24/24 [==============================] - 0s 5ms/step - loss: 0.6793 - val_loss: 1.5696\n",
      "Epoch 33/100\n",
      "24/24 [==============================] - 0s 5ms/step - loss: 0.6572 - val_loss: 1.5891\n",
      "Epoch 34/100\n",
      "24/24 [==============================] - 0s 6ms/step - loss: 0.6171 - val_loss: 1.2751\n",
      "Epoch 35/100\n",
      "24/24 [==============================] - 0s 5ms/step - loss: 0.6449 - val_loss: 1.6652\n",
      "Epoch 36/100\n",
      "24/24 [==============================] - 0s 5ms/step - loss: 0.6306 - val_loss: 1.6585\n",
      "Epoch 37/100\n",
      "24/24 [==============================] - 0s 5ms/step - loss: 0.5948 - val_loss: 1.0868\n",
      "Epoch 38/100\n",
      "24/24 [==============================] - 0s 5ms/step - loss: 0.6031 - val_loss: 1.2940\n",
      "Epoch 39/100\n",
      "24/24 [==============================] - 0s 5ms/step - loss: 0.5793 - val_loss: 1.3608\n",
      "Epoch 40/100\n",
      "24/24 [==============================] - 0s 5ms/step - loss: 0.5728 - val_loss: 0.9522\n",
      "Epoch 41/100\n",
      "24/24 [==============================] - 0s 5ms/step - loss: 0.5624 - val_loss: 0.9968\n",
      "Epoch 42/100\n",
      "24/24 [==============================] - 0s 5ms/step - loss: 0.5448 - val_loss: 1.0286\n",
      "Epoch 43/100\n",
      "24/24 [==============================] - 0s 5ms/step - loss: 0.5312 - val_loss: 1.0360\n",
      "Epoch 44/100\n",
      "24/24 [==============================] - 0s 6ms/step - loss: 0.5350 - val_loss: 0.9683\n",
      "Epoch 45/100\n",
      "24/24 [==============================] - 0s 6ms/step - loss: 0.5164 - val_loss: 0.9248\n",
      "Epoch 46/100\n",
      "24/24 [==============================] - 0s 5ms/step - loss: 0.5194 - val_loss: 0.9988\n",
      "Epoch 47/100\n",
      "24/24 [==============================] - 0s 5ms/step - loss: 0.5047 - val_loss: 0.9846\n",
      "Epoch 48/100\n",
      "24/24 [==============================] - 0s 5ms/step - loss: 0.5058 - val_loss: 0.9226\n",
      "Epoch 49/100\n",
      "24/24 [==============================] - 0s 6ms/step - loss: 0.4924 - val_loss: 0.9364\n",
      "Epoch 50/100\n",
      "24/24 [==============================] - 0s 5ms/step - loss: 0.4800 - val_loss: 0.9181\n",
      "Epoch 51/100\n",
      "24/24 [==============================] - 0s 5ms/step - loss: 0.5027 - val_loss: 1.2165\n",
      "Epoch 52/100\n",
      "24/24 [==============================] - 0s 6ms/step - loss: 0.4811 - val_loss: 0.7581\n",
      "Epoch 53/100\n",
      "24/24 [==============================] - 0s 5ms/step - loss: 0.4786 - val_loss: 0.7686\n",
      "Epoch 54/100\n",
      "24/24 [==============================] - 0s 5ms/step - loss: 0.4662 - val_loss: 0.7643\n",
      "Epoch 55/100\n",
      "24/24 [==============================] - 0s 5ms/step - loss: 0.4538 - val_loss: 0.7766\n",
      "Epoch 56/100\n",
      "24/24 [==============================] - 0s 5ms/step - loss: 0.4501 - val_loss: 0.7939\n",
      "Epoch 57/100\n",
      "24/24 [==============================] - 0s 6ms/step - loss: 0.4417 - val_loss: 0.7726\n",
      "Epoch 58/100\n",
      "24/24 [==============================] - 0s 5ms/step - loss: 0.4363 - val_loss: 0.7787\n",
      "Epoch 59/100\n",
      "24/24 [==============================] - 0s 5ms/step - loss: 0.4325 - val_loss: 0.7824\n",
      "Epoch 60/100\n",
      "24/24 [==============================] - 0s 5ms/step - loss: 0.4220 - val_loss: 0.7710\n",
      "Epoch 61/100\n",
      "24/24 [==============================] - 0s 5ms/step - loss: 0.4171 - val_loss: 0.7723\n",
      "Epoch 62/100\n",
      "24/24 [==============================] - 0s 5ms/step - loss: 0.4120 - val_loss: 0.7714\n",
      "Epoch 63/100\n",
      "24/24 [==============================] - 0s 5ms/step - loss: 0.4005 - val_loss: 0.8101\n",
      "Epoch 64/100\n",
      "24/24 [==============================] - 0s 5ms/step - loss: 0.3980 - val_loss: 0.8062\n",
      "Epoch 65/100\n",
      "24/24 [==============================] - 0s 5ms/step - loss: 0.3917 - val_loss: 0.8057\n",
      "Epoch 66/100\n",
      "24/24 [==============================] - 0s 5ms/step - loss: 0.3906 - val_loss: 0.7227\n",
      "Epoch 67/100\n",
      "24/24 [==============================] - 0s 5ms/step - loss: 0.3840 - val_loss: 0.6707\n",
      "Epoch 68/100\n",
      "24/24 [==============================] - 0s 6ms/step - loss: 0.3939 - val_loss: 0.6787\n",
      "Epoch 69/100\n",
      "24/24 [==============================] - 0s 5ms/step - loss: 0.3782 - val_loss: 0.6815\n",
      "Epoch 70/100\n",
      "24/24 [==============================] - 0s 5ms/step - loss: 0.3805 - val_loss: 0.6662\n",
      "Epoch 71/100\n",
      "24/24 [==============================] - 0s 5ms/step - loss: 0.3715 - val_loss: 0.6737\n",
      "Epoch 72/100\n",
      "24/24 [==============================] - 0s 5ms/step - loss: 0.3636 - val_loss: 0.6876\n",
      "Epoch 73/100\n",
      "24/24 [==============================] - 0s 5ms/step - loss: 0.3561 - val_loss: 0.6559\n",
      "Epoch 74/100\n",
      "24/24 [==============================] - 0s 5ms/step - loss: 0.3490 - val_loss: 0.6799\n",
      "Epoch 75/100\n",
      "24/24 [==============================] - 0s 5ms/step - loss: 0.3493 - val_loss: 0.6589\n",
      "Epoch 76/100\n",
      "24/24 [==============================] - 0s 5ms/step - loss: 0.3323 - val_loss: 0.6499\n",
      "Epoch 77/100\n",
      "24/24 [==============================] - 0s 5ms/step - loss: 0.3430 - val_loss: 0.6587\n",
      "Epoch 78/100\n",
      "24/24 [==============================] - 0s 5ms/step - loss: 0.3275 - val_loss: 0.6504\n",
      "Epoch 79/100\n",
      "24/24 [==============================] - 0s 5ms/step - loss: 0.3258 - val_loss: 0.6454\n",
      "Epoch 80/100\n",
      "24/24 [==============================] - 0s 5ms/step - loss: 0.3217 - val_loss: 0.6438\n",
      "Epoch 81/100\n",
      "24/24 [==============================] - 0s 5ms/step - loss: 0.3232 - val_loss: 0.6351\n",
      "Epoch 82/100\n",
      "24/24 [==============================] - 0s 5ms/step - loss: 0.3165 - val_loss: 0.6431\n",
      "Epoch 83/100\n",
      "24/24 [==============================] - 0s 6ms/step - loss: 0.3166 - val_loss: 0.6357\n",
      "Epoch 84/100\n",
      "24/24 [==============================] - 0s 5ms/step - loss: 0.3081 - val_loss: 0.6461\n",
      "Epoch 85/100\n",
      "24/24 [==============================] - 0s 5ms/step - loss: 0.2977 - val_loss: 0.6311\n",
      "Epoch 86/100\n",
      "24/24 [==============================] - 0s 5ms/step - loss: 0.2949 - val_loss: 0.6203\n",
      "Epoch 87/100\n",
      "24/24 [==============================] - 0s 6ms/step - loss: 0.2865 - val_loss: 0.6362\n",
      "Epoch 88/100\n",
      "24/24 [==============================] - 0s 6ms/step - loss: 0.2887 - val_loss: 0.6000\n",
      "Epoch 89/100\n",
      "24/24 [==============================] - 0s 6ms/step - loss: 0.2861 - val_loss: 0.6338\n",
      "Epoch 90/100\n",
      "24/24 [==============================] - 0s 5ms/step - loss: 0.2919 - val_loss: 0.6550\n",
      "Epoch 91/100\n",
      "24/24 [==============================] - 0s 6ms/step - loss: 0.2867 - val_loss: 0.5931\n",
      "Epoch 92/100\n",
      "24/24 [==============================] - 0s 5ms/step - loss: 0.2726 - val_loss: 0.6099\n",
      "Epoch 93/100\n",
      "24/24 [==============================] - 0s 5ms/step - loss: 0.2694 - val_loss: 0.6235\n",
      "Epoch 94/100\n",
      "24/24 [==============================] - 0s 6ms/step - loss: 0.2656 - val_loss: 0.5834\n",
      "Epoch 95/100\n",
      "24/24 [==============================] - 0s 5ms/step - loss: 0.2613 - val_loss: 0.6007\n",
      "Epoch 96/100\n",
      "24/24 [==============================] - 0s 5ms/step - loss: 0.2554 - val_loss: 0.6179\n",
      "Epoch 97/100\n",
      "24/24 [==============================] - 0s 5ms/step - loss: 0.2570 - val_loss: 0.6118\n",
      "Epoch 98/100\n",
      "24/24 [==============================] - 0s 5ms/step - loss: 0.2535 - val_loss: 0.6177\n",
      "Epoch 99/100\n",
      "24/24 [==============================] - 0s 5ms/step - loss: 0.2469 - val_loss: 0.6294\n",
      "Epoch 100/100\n",
      "24/24 [==============================] - 0s 5ms/step - loss: 0.2493 - val_loss: 0.5923\n"
     ]
    }
   ],
   "source": [
    "# NN training\n",
    "from tensorflow import keras\n",
    "import tensorflow as tf\n",
    "import numpy\n",
    "import pandas\n",
    "from keras.models import Sequential\n",
    "from keras.layers import Dense, Dropout\n",
    "from keras.wrappers.scikit_learn import KerasRegressor\n",
    "from sklearn.model_selection import cross_val_score\n",
    "from sklearn.model_selection import KFold\n",
    "from sklearn import preprocessing\n",
    "from sklearn.model_selection import train_test_split\n",
    "from sklearn.preprocessing import RobustScaler\n",
    "\n",
    "model = Sequential()                  \n",
    "model.add(Dense(40, input_dim=30, activation= 'tanh', kernel_regularizer='L2' ))\n",
    "model.add(Dense(20, activation= 'relu', kernel_regularizer='L2'))\n",
    "model.add(Dropout(0.25))\n",
    "model.add(Dense(10,activation= 'relu', kernel_regularizer='L2'))\n",
    "model.add(Dense(5, activation= 'relu'))\n",
    "model.add(Dense(1))   #by default using softmax activation function\n",
    "model.compile(loss= 'binary_crossentropy' , optimizer= 'adam' )\n",
    "model.summary()\n",
    "history = model.fit(x_random_under_sampler, y_random_under_sampler, validation_split= 0.1, epochs=100, batch_size=32, verbose=1)"
   ]
  },
  {
   "cell_type": "code",
   "execution_count": null,
   "metadata": {
    "colab": {
     "base_uri": "https://localhost:8080/"
    },
    "executionInfo": {
     "elapsed": 1651,
     "status": "ok",
     "timestamp": 1652254573266,
     "user": {
      "displayName": "Akanksha Dixit",
      "userId": "04130631968369856482"
     },
     "user_tz": -330
    },
    "id": "nB2e28H3-GXS",
    "outputId": "249685aa-f605-42b3-9062-27f2d7291e56"
   },
   "outputs": [
    {
     "name": "stdout",
     "output_type": "stream",
     "text": [
      "INFO:tensorflow:Assets written to: credit_card_fraud_model/assets\n",
      "Saved model to disk\n"
     ]
    }
   ],
   "source": [
    "# serialize model to JSON\n",
    "model.save('credit_card_fraud_model')\n",
    "print(\"Saved model to disk\")"
   ]
  },
  {
   "cell_type": "code",
   "execution_count": null,
   "metadata": {
    "colab": {
     "base_uri": "https://localhost:8080/"
    },
    "executionInfo": {
     "elapsed": 1817,
     "status": "ok",
     "timestamp": 1652254578553,
     "user": {
      "displayName": "Akanksha Dixit",
      "userId": "04130631968369856482"
     },
     "user_tz": -330
    },
    "id": "OMgxE0lU-MZs",
    "outputId": "59e8e572-6c67-46a4-e980-f334da45ee1d"
   },
   "outputs": [
    {
     "name": "stdout",
     "output_type": "stream",
     "text": [
      "Model: \"sequential_7\"\n",
      "_________________________________________________________________\n",
      " Layer (type)                Output Shape              Param #   \n",
      "=================================================================\n",
      " dense_35 (Dense)            (None, 40)                1240      \n",
      "                                                                 \n",
      " dense_36 (Dense)            (None, 20)                820       \n",
      "                                                                 \n",
      " dropout_7 (Dropout)         (None, 20)                0         \n",
      "                                                                 \n",
      " dense_37 (Dense)            (None, 10)                210       \n",
      "                                                                 \n",
      " dense_38 (Dense)            (None, 5)                 55        \n",
      "                                                                 \n",
      " dense_39 (Dense)            (None, 1)                 6         \n",
      "                                                                 \n",
      "=================================================================\n",
      "Total params: 2,331\n",
      "Trainable params: 2,331\n",
      "Non-trainable params: 0\n",
      "_________________________________________________________________\n"
     ]
    }
   ],
   "source": [
    "reloaded_model = tf.keras.models.load_model('credit_card_fraud_model')\n",
    "\n",
    "# Reviewing my model after reload\n",
    "reloaded_model.summary()"
   ]
  },
  {
   "cell_type": "code",
   "execution_count": null,
   "metadata": {
    "id": "m1734LmHbooK"
   },
   "outputs": [],
   "source": [
    "#defining function to generate the ypred binary output for classification report\n",
    "def binary_inference(input_list, threshold=0.8):\n",
    "  probability_list = []\n",
    "  for i in input_list:\n",
    "    if i>= threshold:\n",
    "      probability_list.append(1)\n",
    "    else:\n",
    "      probability_list.append(0)\n",
    "\n",
    "   \n",
    "  return probability_list"
   ]
  },
  {
   "cell_type": "code",
   "execution_count": null,
   "metadata": {
    "colab": {
     "base_uri": "https://localhost:8080/"
    },
    "executionInfo": {
     "elapsed": 3533,
     "status": "ok",
     "timestamp": 1652254589134,
     "user": {
      "displayName": "Akanksha Dixit",
      "userId": "04130631968369856482"
     },
     "user_tz": -330
    },
    "id": "PkOvRDSQF6wf",
    "outputId": "f936a0ee-a3f3-4e70-93a3-27a530e53709"
   },
   "outputs": [
    {
     "name": "stdout",
     "output_type": "stream",
     "text": [
      "              precision    recall  f1-score   support\n",
      "\n",
      "           0       1.00      1.00      1.00     56886\n",
      "           1       0.20      0.76      0.32        75\n",
      "\n",
      "    accuracy                           1.00     56961\n",
      "   macro avg       0.60      0.88      0.66     56961\n",
      "weighted avg       1.00      1.00      1.00     56961\n",
      "\n"
     ]
    }
   ],
   "source": [
    "from sklearn.metrics import classification_report\n",
    "\n",
    "y_pred = model.predict(test_features)\n",
    "y_pred_binary = binary_inference(y_pred)\n",
    "classification_report = classification_report(test_targets, y_pred_binary)\n",
    "print(classification_report)"
   ]
  },
  {
   "cell_type": "code",
   "execution_count": null,
   "metadata": {
    "colab": {
     "base_uri": "https://localhost:8080/",
     "height": 312
    },
    "executionInfo": {
     "elapsed": 776,
     "status": "ok",
     "timestamp": 1652254596326,
     "user": {
      "displayName": "Akanksha Dixit",
      "userId": "04130631968369856482"
     },
     "user_tz": -330
    },
    "id": "-HYxL22ZGIsK",
    "outputId": "5a490fad-bf42-442b-aa07-fd7fdbc7a04f"
   },
   "outputs": [
    {
     "data": {
      "text/plain": [
       "Text(0, 0.5, 'Loss')"
      ]
     },
     "execution_count": 49,
     "metadata": {},
     "output_type": "execute_result"
    },
    {
     "data": {
      "image/png": "[encoded data removed]",
      "text/plain": [
       "<Figure size 432x288 with 1 Axes>"
      ]
     },
     "metadata": {
      "needs_background": "light"
     },
     "output_type": "display_data"
    }
   ],
   "source": [
    "import matplotlib.pyplot as plt\n",
    "plt.plot(history.history[\"loss\"])\n",
    "plt.plot(history.history[\"val_loss\"])\n",
    "plt.legend(['loss','validation loss'])\n",
    "plt.title('Training and Validation loss')\n",
    "plt.xlabel('Epochs')\n",
    "plt.ylabel('Loss')"
   ]
  },
  {
   "cell_type": "code",
   "execution_count": null,
   "metadata": {
    "colab": {
     "base_uri": "https://localhost:8080/"
    },
    "executionInfo": {
     "elapsed": 626,
     "status": "ok",
     "timestamp": 1652254603466,
     "user": {
      "displayName": "Akanksha Dixit",
      "userId": "04130631968369856482"
     },
     "user_tz": -330
    },
    "id": "WYdr9jFL-Yg1",
    "outputId": "2e842413-849b-445d-8339-ad68199468bb"
   },
   "outputs": [
    {
     "name": "stdout",
     "output_type": "stream",
     "text": [
      "[[56663   223]\n",
      " [   18    57]]\n"
     ]
    }
   ],
   "source": [
    "from sklearn.metrics import confusion_matrix\n",
    "\n",
    "#Generate the confusion matrix\n",
    "confusion_matrix = confusion_matrix(test_targets, y_pred_binary)\n",
    "\n",
    "print(confusion_matrix)"
   ]
  },
  {
   "cell_type": "code",
   "execution_count": null,
   "metadata": {
    "colab": {
     "base_uri": "https://localhost:8080/",
     "height": 337
    },
    "executionInfo": {
     "elapsed": 661,
     "status": "ok",
     "timestamp": 1652254607401,
     "user": {
      "displayName": "Akanksha Dixit",
      "userId": "04130631968369856482"
     },
     "user_tz": -330
    },
    "id": "aDpBY7OJ-ZB-",
    "outputId": "0f053fcf-5390-47eb-de74-3dbddd62c98f"
   },
   "outputs": [
    {
     "data": {
      "image/png": "[encoded data removed]",
      "text/plain": [
       "<Figure size 432x288 with 2 Axes>"
      ]
     },
     "metadata": {
      "needs_background": "light"
     },
     "output_type": "display_data"
    }
   ],
   "source": [
    "import seaborn as sns\n",
    "\n",
    "ax = sns.heatmap(confusion_matrix/np.sum(confusion_matrix), annot=True, fmt='.2%', cmap='Greens')\n",
    "\n",
    "ax.set_title('Confusion Matrix\\n\\n');\n",
    "ax.set_xlabel('\\nPredicted Values')\n",
    "ax.set_ylabel('Actual Values ');\n",
    "\n",
    "## Ticket labels - List must be in alphabetical order\n",
    "ax.xaxis.set_ticklabels(['False','True'])\n",
    "ax.yaxis.set_ticklabels(['False','True'])\n",
    "\n",
    "## Display the visualization of the Confusion Matrix.\n",
    "plt.show()"
   ]
  },
  {
   "cell_type": "code",
   "execution_count": null,
   "metadata": {
    "id": "Z_OTgQo28PGl"
   },
   "outputs": [],
   "source": [
    "## PROBLEMS :\n",
    "## NOT ABLE TO CALCULATE ROC\n",
    "from sklearn.metrics import roc_curve\n",
    "from sklearn.metrics import auc\n",
    "\n",
    "fpr, tpr, thresholds_rf = roc_curve(y_test_randomSampler, y_predBinary)\n",
    "auc = auc(fpr, tpr)"
   ]
  },
  {
   "cell_type": "code",
   "execution_count": null,
   "metadata": {
    "id": "rogg1D-NtEqS"
   },
   "outputs": [],
   "source": [
    "plt.figure(1)\n",
    "plt.plot([0, 1], [0, 1], 'k--')\n",
    "plt.plot(fpr, tpr, label='Keras (area = {:.3f})'.format(auc))\n",
    "plt.xlabel('False positive rate')\n",
    "plt.ylabel('True positive rate')\n",
    "plt.title('ROC curve')\n",
    "plt.legend(loc='best')\n",
    "plt.show()"
   ]
  },
  {
   "cell_type": "code",
   "execution_count": null,
   "metadata": {
    "id": "e5OvHk-bctjt"
   },
   "outputs": [],
   "source": [
    "# end of my code"
   ]
  },
  {
   "cell_type": "code",
   "execution_count": null,
   "metadata": {
    "id": "0MKGs-BCvRoP"
   },
   "outputs": [],
   "source": [
    "#from keras import backend as K\n",
    "#K.tensorflow_backend._get_available_gpus()"
   ]
  },
  {
   "cell_type": "code",
   "execution_count": null,
   "metadata": {
    "id": "3EaFLP0GCN3e"
   },
   "outputs": [],
   "source": [
    "import tensorflow as tf\n",
    "tf.test.gpu_device_name()"
   ]
  },
  {
   "cell_type": "code",
   "execution_count": null,
   "metadata": {
    "id": "d-93q37XliPY"
   },
   "outputs": [],
   "source": [
    "# metrics = [keras.metrics.FalseNegatives(name='fn'),\n",
    "#            keras.metrics.FalsePositives(name='fp'),\n",
    "#            keras.metrics.TrueNegatives(name='tn'),\n",
    "#            keras.metrics.TruePositives(name='tp'),\n",
    "#            keras.metrics.Precision(name='precision'),\n",
    "#            keras.metrics.Recall(name='recall'),\n",
    "#            keras.metrics.Accuracy(name='accuracy')]\n",
    "\n",
    "# model.compile(optimizer=keras.optimizers.Adam(1e-2),\n",
    "#               loss='binary_crossentropy',\n",
    "#               metrics=metrics)\n",
    "\n",
    "# #callbacks = [keras.callbacks.ModelCheckpoint('fraud_model_at_epoch_{epoch}.h5')]\n",
    "# class_weight = {0: 1, 1: 200}\n",
    "\n",
    "# model.fit(train_features, train_targets,\n",
    "#           batch_size=4096, epochs=100, verbose=2, validation_data=(test_features, test_targets), class_weight=class_weight)"
   ]
  },
  {
   "cell_type": "code",
   "execution_count": null,
   "metadata": {
    "id": "AjPoZMvokczz"
   },
   "outputs": [],
   "source": [
    "# homework\n",
    "# Solve the clasification problem. \n",
    "# handle data imbalance issue\n",
    "# Design DL network to classify\n",
    "# Print loss, F1 score and ROC\n",
    "# Visualize loss in training and test data using matplotlib\n",
    "# Send the link of colab to amritansh.48@gmail.com"
   ]
  },
  {
   "cell_type": "markdown",
   "metadata": {
    "id": "zRLPklN0aA_g"
   },
   "source": [
    "# **Summary of Experiments:**\n",
    "\n",
    "Went with Sequential for all the experiments\n",
    "Dropout of 25% added after hidden layer 2\n",
    "\n",
    "**Experiment 1:**\n",
    "\n",
    "Hidden layer with neuron counts as \n",
    "40 - activation= 'tanh', kernel_regularizer='L2'\n",
    "20 - activation= 'relu', kernel_regularizer='L2'\n",
    "10 - activation= 'relu', kernel_regularizer='L2'\n",
    "5 - activation= 'relu'\n",
    "Output layer - loss= 'binary_crossentropy' , optimizer= 'adam'\n",
    "validation_split= 0.1, epochs=100, batch_size=32\n",
    "\n",
    "f1 score: f1 score: 55\n",
    "\n",
    "\n",
    "**Experiment 2:**\n",
    "\n",
    "Hidden layer with neuron counts as \n",
    "40 - activation= 'relu', kernel_regularizer='L2'\n",
    "20 - activation= 'relu', kernel_regularizer='L2'\n",
    "10 - activation= 'relu', kernel_regularizer='L2'\n",
    "5 - activation= 'relu'\n",
    "Output layer - loss= 'binary_crossentropy' , optimizer= 'adam'\n",
    "\n",
    "validation_split= 0.1, epochs=200, batch_size=32\n",
    "\n",
    "f1 score: 68\n",
    "\n",
    "\n",
    "**Experiment 3:**\n",
    "\n",
    "Hidden layer with neuron counts as \n",
    "40 - activation= 'relu', kernel_regularizer='L2'\n",
    "20 - activation= 'relu', kernel_regularizer='L2'\n",
    "10 - activation= 'relu', kernel_regularizer='L2'\n",
    "5 - activation= 'relu'\n",
    "Output layer - loss= 'binary_crossentropy' , optimizer= 'adam'\n",
    "\n",
    "validation_split= 0.2, epochs=200, batch_size=32\n",
    "\n",
    "f1 score:  0.77\n",
    "\n",
    "\n",
    "\n",
    "**Experiment 4:**\n",
    "\n",
    "Hidden layer with neuron counts as \n",
    "80 - activation= 'relu', kernel_regularizer='L2'\n",
    "40 - activation= 'relu', kernel_regularizer='L2'\n",
    "20 - activation= 'relu', kernel_regularizer='L2'\n",
    "10 - activation= 'relu'\n",
    "Output layer - loss= 'binary_crossentropy' , optimizer= 'adam'\n",
    "\n",
    "validation_split= 0.2, epochs=200, batch_size=32\n",
    "\n",
    "f1 score:  0.76"
   ]
  }
 ],
 "metadata": {
  "accelerator": "GPU",
  "colab": {
   "collapsed_sections": [],
   "name": "Credit Card Fraud-AD.ipynb",
   "provenance": [
    {
     "file_id": "1ln1IKJ9rsQNZjFRbWeRDqVxbrBXbStP2",
     "timestamp": 1652092169958
    },
    {
     "file_id": "1ARoczjMpSh_6OIlPt6aLzSYwD2-3MQGv",
     "timestamp": 1651990560570
    }
   ]
  },
  "kernelspec": {
   "display_name": "Python 3 (ipykernel)",
   "language": "python",
   "name": "python3"
  },
  "language_info": {
   "codemirror_mode": {
    "name": "ipython",
    "version": 3
   },
   "file_extension": ".py",
   "mimetype": "text/x-python",
   "name": "python",
   "nbconvert_exporter": "python",
   "pygments_lexer": "ipython3",
   "version": "3.9.13"
  }
 },
 "nbformat": 4,
 "nbformat_minor": 1
}
